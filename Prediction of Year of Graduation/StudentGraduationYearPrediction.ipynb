{
  "cells": [
    {
      "cell_type": "markdown",
      "metadata": {
        "id": "WvnhQU7gw4kI"
      },
      "source": [
        "# Loading the Data in the excel to pandad data frame"
      ]
    },
    {
      "cell_type": "code",
      "execution_count": 151,
      "metadata": {
        "id": "XmkQJgN9ZVDs"
      },
      "outputs": [],
      "source": [
        "import pandas as pd\n",
        "import openpyxl\n",
        "from datetime import datetime\n",
        "\n",
        "# Reading the Year of Graduation dataset\n",
        "find_graduation_data = pd.read_excel('Year of Graduation Final Lead Data.xlsx')"
      ]
    },
    {
      "cell_type": "code",
      "execution_count": 152,
      "metadata": {
        "colab": {
          "base_uri": "https://localhost:8080/"
        },
        "id": "z00f1DOpZ8or",
        "outputId": "0dbafa5d-376b-4e84-d61c-71f1eaf6680e"
      },
      "outputs": [
        {
          "name": "stdout",
          "output_type": "stream",
          "text": [
            "<class 'pandas.core.frame.DataFrame'>\n",
            "RangeIndex: 5303 entries, 0 to 5302\n",
            "Data columns (total 18 columns):\n",
            " #   Column                                                  Non-Null Count  Dtype  \n",
            "---  ------                                                  --------------  -----  \n",
            " 0   ID                                                      5303 non-null   int64  \n",
            " 1   First Name                                              5303 non-null   object \n",
            " 2   Email                                                   5303 non-null   object \n",
            " 3   Gender                                                  200 non-null    object \n",
            " 4   City                                                    55 non-null     object \n",
            " 5   Created                                                 5303 non-null   object \n",
            " 6   Position                                                6 non-null      object \n",
            " 7   New College Name                                        1818 non-null   object \n",
            " 8   Colleges                                                1681 non-null   object \n",
            " 9   Academic Year                                           2518 non-null   float64\n",
            " 10  Branch/ Specialisation                                  2520 non-null   object \n",
            " 11  Other Branch                                            644 non-null    object \n",
            " 12  What is your current academic year?                     131 non-null    object \n",
            " 13  Company Name/ College Name                              238 non-null    object \n",
            " 14  Would you like to know more about us and our programs?  5303 non-null   object \n",
            " 15  Are you interested in knowing more about our events?    5303 non-null   object \n",
            " 16  Have you recommended Cloud Counselage to anyone?        5303 non-null   object \n",
            " 17  How did you come to know about this event?              155 non-null    object \n",
            "dtypes: float64(1), int64(1), object(16)\n",
            "memory usage: 745.9+ KB\n"
          ]
        }
      ],
      "source": [
        "# Studying the Data\n",
        "find_graduation_data.info()"
      ]
    },
    {
      "cell_type": "markdown",
      "metadata": {
        "id": "SHEXODcCc3L7"
      },
      "source": [
        "#To find the year of graduation we can use the academic year and current academic year\n",
        "finding the usefull columns for developing the prediction of Graduation year\n",
        "out of all the 18 columns of data Academic year and \"What is your current academic year? \" are the ones we are interested in.\n",
        "\n",
        "Getting a picture of how our required feature columns are."
      ]
    },
    {
      "cell_type": "code",
      "execution_count": 153,
      "metadata": {
        "colab": {
          "base_uri": "https://localhost:8080/"
        },
        "id": "b2BcX0EYbheC",
        "outputId": "1d34ebeb-426a-4c54-f2f6-1a92f2295a1e"
      },
      "outputs": [
        {
          "name": "stdout",
          "output_type": "stream",
          "text": [
            "<class 'pandas.core.series.Series'>\n",
            "RangeIndex: 5303 entries, 0 to 5302\n",
            "Series name: Academic Year\n",
            "Non-Null Count  Dtype  \n",
            "--------------  -----  \n",
            "2518 non-null   float64\n",
            "dtypes: float64(1)\n",
            "memory usage: 41.6 KB\n"
          ]
        },
        {
          "data": {
            "text/plain": [
              "3.0    1221\n",
              "2.0     672\n",
              "4.0     457\n",
              "1.0     168\n",
              "Name: Academic Year, dtype: int64"
            ]
          },
          "execution_count": 153,
          "metadata": {},
          "output_type": "execute_result"
        }
      ],
      "source": [
        "#Academic Year Feature overview\n",
        "find_graduation_data['Academic Year'].info()\n",
        "find_graduation_data['Academic Year'].value_counts()"
      ]
    },
    {
      "cell_type": "code",
      "execution_count": 154,
      "metadata": {
        "colab": {
          "base_uri": "https://localhost:8080/"
        },
        "id": "yCtMX-IlbhsU",
        "outputId": "f6bea661-29fb-4865-fa0c-9a181c073be4"
      },
      "outputs": [
        {
          "name": "stdout",
          "output_type": "stream",
          "text": [
            "<class 'pandas.core.series.Series'>\n",
            "RangeIndex: 5303 entries, 0 to 5302\n",
            "Series name: What is your current academic year?\n",
            "Non-Null Count  Dtype \n",
            "--------------  ----- \n",
            "131 non-null    object\n",
            "dtypes: object(1)\n",
            "memory usage: 41.6+ KB\n"
          ]
        },
        {
          "data": {
            "text/plain": [
              "3rd Year      59\n",
              "Final Year    41\n",
              "2nd Year      20\n",
              "1st Year      11\n",
              "Name: What is your current academic year?, dtype: int64"
            ]
          },
          "execution_count": 154,
          "metadata": {},
          "output_type": "execute_result"
        }
      ],
      "source": [
        "#What is your current academic year? Feature over view\n",
        "find_graduation_data['What is your current academic year?'].info()\n",
        "find_graduation_data['What is your current academic year?'].value_counts()"
      ]
    },
    {
      "cell_type": "markdown",
      "metadata": {
        "id": "PJZLMm8rfiQV"
      },
      "source": [
        "#Inconsisteny in Academic Year and What is your current academic year? features\n",
        "To solve this problem we are going to join both the colums a current academic year\n",
        "First convert the What is your current academic year feature to integer data type."
      ]
    },
    {
      "cell_type": "code",
      "execution_count": 155,
      "metadata": {
        "id": "P8Hw_He3isy8"
      },
      "outputs": [],
      "source": [
        "# mapping year to 'What is your current academic year?' feature to convert to int type\n",
        "year_maps={\n",
        "    '1st Year': 1,\n",
        "    '2nd Year': 2,\n",
        "    '3rd Year': 3,\n",
        "    'Final Year': 4\n",
        "}"
      ]
    },
    {
      "cell_type": "code",
      "execution_count": 156,
      "metadata": {
        "colab": {
          "base_uri": "https://localhost:8080/"
        },
        "id": "U5IuXmMykTPS",
        "outputId": "5881f579-3cb2-45b3-cdc6-b43f94be2ed5"
      },
      "outputs": [
        {
          "data": {
            "text/plain": [
              "3.0    59\n",
              "4.0    41\n",
              "2.0    20\n",
              "1.0    11\n",
              "Name: What is your current academic year?, dtype: int64"
            ]
          },
          "execution_count": 156,
          "metadata": {},
          "output_type": "execute_result"
        }
      ],
      "source": [
        "find_graduation_data['What is your current academic year?'] = find_graduation_data['What is your current academic year?'].map(year_maps)\n",
        "find_graduation_data['What is your current academic year?'].value_counts()"
      ]
    },
    {
      "cell_type": "markdown",
      "metadata": {
        "id": "7h8QzKomlOi_"
      },
      "source": [
        "#Combining Academic Year and \"What your current Year?\" columns\n"
      ]
    },
    {
      "cell_type": "code",
      "execution_count": 157,
      "metadata": {
        "colab": {
          "base_uri": "https://localhost:8080/"
        },
        "id": "j5uJLjRnlNxB",
        "outputId": "0a542fb8-7084-4fb4-ee7c-e73401395c7b"
      },
      "outputs": [
        {
          "name": "stdout",
          "output_type": "stream",
          "text": [
            "<class 'pandas.core.series.Series'>\n",
            "RangeIndex: 5303 entries, 0 to 5302\n",
            "Series name: Academic Year\n",
            "Non-Null Count  Dtype  \n",
            "--------------  -----  \n",
            "2538 non-null   float64\n",
            "dtypes: float64(1)\n",
            "memory usage: 41.6 KB\n"
          ]
        },
        {
          "data": {
            "text/plain": [
              "3.0    1227\n",
              "2.0     674\n",
              "4.0     465\n",
              "1.0     172\n",
              "Name: Academic Year, dtype: int64"
            ]
          },
          "execution_count": 157,
          "metadata": {},
          "output_type": "execute_result"
        }
      ],
      "source": [
        "acedemic_null_values=find_graduation_data['Academic Year'].isnull()\n",
        "current_acc_year_no_null_value=find_graduation_data['What is your current academic year?'].notnull()\n",
        "find_graduation_data.loc[acedemic_null_values & current_acc_year_no_null_value ,'Academic Year']=find_graduation_data['What is your current academic year?']\n",
        "find_graduation_data['Academic Year'].info()\n",
        "find_graduation_data['Academic Year'].value_counts()"
      ]
    },
    {
      "cell_type": "markdown",
      "metadata": {
        "id": "D53kPFjPyAn3"
      },
      "source": [
        "#To remove the null values finding the statistics of the feature Academic Year"
      ]
    },
    {
      "cell_type": "code",
      "execution_count": 158,
      "metadata": {
        "colab": {
          "base_uri": "https://localhost:8080/"
        },
        "id": "Z__LXEiInh4g",
        "outputId": "7ace144a-1ea8-4f5f-8d95-d840ed15308d"
      },
      "outputs": [
        {
          "data": {
            "text/plain": [
              "0    3.0\n",
              "Name: Academic Year, dtype: float64"
            ]
          },
          "execution_count": 158,
          "metadata": {},
          "output_type": "execute_result"
        }
      ],
      "source": [
        "find_graduation_data['Academic Year'].mode()"
      ]
    },
    {
      "cell_type": "code",
      "execution_count": 159,
      "metadata": {
        "colab": {
          "base_uri": "https://localhost:8080/"
        },
        "id": "aOfYvcIvoWQ1",
        "outputId": "648941df-a4a0-4e56-d0dc-cd95184d522d"
      },
      "outputs": [
        {
          "data": {
            "text/plain": [
              "2.782111899133176"
            ]
          },
          "execution_count": 159,
          "metadata": {},
          "output_type": "execute_result"
        }
      ],
      "source": [
        "find_graduation_data['Academic Year'].mean()"
      ]
    },
    {
      "cell_type": "code",
      "execution_count": 160,
      "metadata": {
        "colab": {
          "base_uri": "https://localhost:8080/"
        },
        "id": "YtodAw7AoaXh",
        "outputId": "d224e998-a6df-41b4-f028-4f935a39526f"
      },
      "outputs": [
        {
          "data": {
            "text/plain": [
              "3.0"
            ]
          },
          "execution_count": 160,
          "metadata": {},
          "output_type": "execute_result"
        }
      ],
      "source": [
        "find_graduation_data['Academic Year'].median()"
      ]
    },
    {
      "cell_type": "markdown",
      "metadata": {
        "id": "kXx4FLmSofzb"
      },
      "source": [
        "#Fixing the null vlaues\n",
        "we observered that satistically 3 year students are more so filling the all null values with 3"
      ]
    },
    {
      "cell_type": "code",
      "execution_count": 161,
      "metadata": {
        "colab": {
          "base_uri": "https://localhost:8080/"
        },
        "id": "cIpiYv9_oe7t",
        "outputId": "abf2af02-02aa-4945-dcd1-ecfe31c31982"
      },
      "outputs": [
        {
          "name": "stdout",
          "output_type": "stream",
          "text": [
            "<class 'pandas.core.series.Series'>\n",
            "RangeIndex: 5303 entries, 0 to 5302\n",
            "Series name: Academic Year\n",
            "Non-Null Count  Dtype  \n",
            "--------------  -----  \n",
            "5303 non-null   float64\n",
            "dtypes: float64(1)\n",
            "memory usage: 41.6 KB\n"
          ]
        }
      ],
      "source": [
        "find_graduation_data['Academic Year']=find_graduation_data['Academic Year'].fillna(3)\n",
        "find_graduation_data['Academic Year'].info()"
      ]
    },
    {
      "cell_type": "markdown",
      "metadata": {
        "id": "kulGkjdPdxMW"
      },
      "source": [
        "#Information Gained by looking at the feature columns\n",
        "they are 4 different values for each of the feature('Academic Year' and 'What is your current academic year?')\n",
        "\n",
        "It can be infered that the max year of study us 4 Year so a person in ..\n",
        "\n",
        "1st acedemic year is expected to graduate in 3 years so his graduation year will be\n",
        "\n",
        "\n",
        "**GRAD_Year = current_year - studnets_academic_year + 4(duration of the course since it is clear that course duration is 4 from the data analysis)**"
      ]
    },
    {
      "cell_type": "code",
      "execution_count": 162,
      "metadata": {
        "id": "lKANwK-Ufa7Z"
      },
      "outputs": [],
      "source": [
        "current_year= datetime.now().year\n",
        "duration=4 # as obesereved from the given data\n",
        "def grad_pred_map(x):\n",
        "  return current_year+duration-x\n",
        "#creating a new column to store the graduation year values in same dataframe\n",
        "find_graduation_data['Graduation_Year']=find_graduation_data['Academic Year'].map(grad_pred_map)"
      ]
    },
    {
      "cell_type": "markdown",
      "metadata": {
        "id": "_y0kmYF4rRvI"
      },
      "source": [
        "#Displaying Predicted values of the graduation years"
      ]
    },
    {
      "cell_type": "code",
      "execution_count": 163,
      "metadata": {
        "colab": {
          "base_uri": "https://localhost:8080/"
        },
        "id": "5N0cMftIq7ST",
        "outputId": "b09a2a29-f277-477b-971f-cc456f6c13db"
      },
      "outputs": [
        {
          "name": "stdout",
          "output_type": "stream",
          "text": [
            "0       2024.0\n",
            "1       2024.0\n",
            "2       2024.0\n",
            "3       2024.0\n",
            "4       2024.0\n",
            "         ...  \n",
            "5298    2024.0\n",
            "5299    2024.0\n",
            "5300    2024.0\n",
            "5301    2024.0\n",
            "5302    2024.0\n",
            "Name: Graduation_Year, Length: 5303, dtype: float64\n"
          ]
        }
      ],
      "source": [
        "print(find_graduation_data['Graduation_Year'])"
      ]
    },
    {
      "cell_type": "markdown",
      "metadata": {
        "id": "a3xJbgJntTt4"
      },
      "source": [
        "#Adding the final results to new excel file"
      ]
    },
    {
      "cell_type": "code",
      "execution_count": 164,
      "metadata": {
        "colab": {
          "base_uri": "https://localhost:8080/"
        },
        "id": "9tcis0ftqn88",
        "outputId": "3a68b38a-bd55-42a7-815f-470db8b326b2"
      },
      "outputs": [
        {
          "name": "stdout",
          "output_type": "stream",
          "text": [
            "Data written to new Excel file: Graduation Year New Lead Data Ouput.xlsx\n"
          ]
        }
      ],
      "source": [
        "# Create a DataFrame with your data\n",
        "old_data=pd.read_excel('Year of Graduation Final Lead Data.xlsx')\n",
        "#adding the Academic Year and Graduaiton year column to the old excel data\n",
        "old_data['Academic Year']=find_graduation_data['Academic Year']\n",
        "old_data['Graduaiton Year']=find_graduation_data['Graduation_Year']\n",
        "\n",
        "new_excel_file_path = 'Graduation Year New Lead Data Ouput.xlsx'\n",
        "\n",
        "# Write the DataFrame to a new Excel file\n",
        "old_data.to_excel(new_excel_file_path, index=False)\n",
        "\n",
        "print(\"Data written to new Excel file:\", new_excel_file_path)\n"
      ]
    }
  ],
  "metadata": {
    "colab": {
      "provenance": []
    },
    "kernelspec": {
      "display_name": "Python 3",
      "name": "python3"
    },
    "language_info": {
      "name": "python"
    }
  },
  "nbformat": 4,
  "nbformat_minor": 0
}
