{
  "nbformat": 4,
  "nbformat_minor": 0,
  "metadata": {
    "colab": {
      "provenance": []
    },
    "kernelspec": {
      "name": "python3",
      "display_name": "Python 3"
    },
    "language_info": {
      "name": "python"
    }
  },
  "cells": [
    {
      "cell_type": "markdown",
      "source": [
        "# Prediction of Placement Status of students"
      ],
      "metadata": {
        "id": "IeLg3llzU5oN"
      }
    },
    {
      "cell_type": "code",
      "execution_count": 5,
      "metadata": {
        "id": "qKcwoYK3PM9D"
      },
      "outputs": [],
      "source": [
        "import numpy as np\n",
        "import pandas as pd"
      ]
    },
    {
      "cell_type": "markdown",
      "source": [
        "# Loading the data into a pandas Dataframe"
      ],
      "metadata": {
        "id": "YJoqFUPlU_Wz"
      }
    },
    {
      "cell_type": "code",
      "source": [
        "train_data=pd.read_excel('/content/01 Train Data.xlsx')\n",
        "test_data=pd.read_excel('/content/02 Test Data.xlsx')"
      ],
      "metadata": {
        "id": "OvzQ5BTDPfVU"
      },
      "execution_count": 6,
      "outputs": []
    },
    {
      "cell_type": "code",
      "source": [
        "train_data.info()"
      ],
      "metadata": {
        "colab": {
          "base_uri": "https://localhost:8080/"
        },
        "id": "spcwYSVdQINJ",
        "outputId": "45e8c12d-da59-444c-8c72-89f6f0963a7c"
      },
      "execution_count": 7,
      "outputs": [
        {
          "output_type": "stream",
          "name": "stdout",
          "text": [
            "<class 'pandas.core.frame.DataFrame'>\n",
            "RangeIndex: 4894 entries, 0 to 4893\n",
            "Data columns (total 23 columns):\n",
            " #   Column                                                           Non-Null Count  Dtype  \n",
            "---  ------                                                           --------------  -----  \n",
            " 0   First Name                                                       4894 non-null   object \n",
            " 1   Email ID                                                         4894 non-null   object \n",
            " 2   Quantity                                                         4894 non-null   int64  \n",
            " 3   Price Tier                                                       0 non-null      float64\n",
            " 4   Ticket Type                                                      4894 non-null   object \n",
            " 5   Attendee #                                                       4490 non-null   float64\n",
            " 6   Group                                                            0 non-null      float64\n",
            " 7   Order Type                                                       4894 non-null   object \n",
            " 8   Currency                                                         4490 non-null   object \n",
            " 9   Total Paid                                                       4894 non-null   int64  \n",
            " 10  Fees Paid                                                        4490 non-null   float64\n",
            " 11  Eventbrite Fees                                                  4894 non-null   int64  \n",
            " 12  Eventbrite Payment Processing                                    4894 non-null   int64  \n",
            " 13  Attendee Status                                                  4894 non-null   object \n",
            " 14  College Name                                                     4879 non-null   object \n",
            " 15  How did you come to know about this event?                       2678 non-null   object \n",
            " 16  Specify in \"Others\" (how did you come to know about this event)  89 non-null     object \n",
            " 17  Designation                                                      4894 non-null   object \n",
            " 18  Year of Graduation                                               1032 non-null   object \n",
            " 19  CGPA                                                             4894 non-null   float64\n",
            " 20  Speaking Skills                                                  4894 non-null   int64  \n",
            " 21  ML Knowledge                                                     4894 non-null   int64  \n",
            " 22  Placement Status                                                 1098 non-null   object \n",
            "dtypes: float64(5), int64(6), object(12)\n",
            "memory usage: 879.5+ KB\n"
          ]
        }
      ]
    },
    {
      "cell_type": "markdown",
      "source": [
        "# Dropping all the empty rows without placement status"
      ],
      "metadata": {
        "id": "jpo1srHbFUaS"
      }
    },
    {
      "cell_type": "code",
      "source": [
        "train_data.dropna(subset=['Placement Status'],inplace=True)\n",
        "train_data.describe()"
      ],
      "metadata": {
        "colab": {
          "base_uri": "https://localhost:8080/",
          "height": 355
        },
        "id": "UmRoOD7MRYRE",
        "outputId": "fecbf2e9-c3f4-4c85-e4e6-44d0ac5f5abd"
      },
      "execution_count": 8,
      "outputs": [
        {
          "output_type": "execute_result",
          "data": {
            "text/plain": [
              "       Quantity  Price Tier    Attendee #  Group  Total Paid  Fees Paid  \\\n",
              "count    1098.0         0.0  6.960000e+02    0.0      1098.0      696.0   \n",
              "mean        1.0         NaN  2.254630e+09    NaN         0.0        0.0   \n",
              "std         0.0         NaN  5.051868e+07    NaN         0.0        0.0   \n",
              "min         1.0         NaN  2.213855e+09    NaN         0.0        0.0   \n",
              "25%         1.0         NaN  2.220493e+09    NaN         0.0        0.0   \n",
              "50%         1.0         NaN  2.226290e+09    NaN         0.0        0.0   \n",
              "75%         1.0         NaN  2.290655e+09    NaN         0.0        0.0   \n",
              "max         1.0         NaN  2.361645e+09    NaN         0.0        0.0   \n",
              "\n",
              "       Eventbrite Fees  Eventbrite Payment Processing         CGPA  \\\n",
              "count           1098.0                         1098.0  1098.000000   \n",
              "mean               0.0                            0.0     8.038434   \n",
              "std                0.0                            0.0     1.004991   \n",
              "min                0.0                            0.0     6.200000   \n",
              "25%                0.0                            0.0     7.200000   \n",
              "50%                0.0                            0.0     7.900000   \n",
              "75%                0.0                            0.0     8.900000   \n",
              "max                0.0                            0.0     9.900000   \n",
              "\n",
              "       Speaking Skills  ML Knowledge  \n",
              "count      1098.000000   1098.000000  \n",
              "mean          3.457195      3.477231  \n",
              "std           1.157784      1.150455  \n",
              "min           2.000000      2.000000  \n",
              "25%           2.000000      2.000000  \n",
              "50%           3.500000      4.000000  \n",
              "75%           5.000000      4.750000  \n",
              "max           5.000000      5.000000  "
            ],
            "text/html": [
              "\n",
              "  <div id=\"df-19145f92-612f-40e5-865f-7064b4deba7d\" class=\"colab-df-container\">\n",
              "    <div>\n",
              "<style scoped>\n",
              "    .dataframe tbody tr th:only-of-type {\n",
              "        vertical-align: middle;\n",
              "    }\n",
              "\n",
              "    .dataframe tbody tr th {\n",
              "        vertical-align: top;\n",
              "    }\n",
              "\n",
              "    .dataframe thead th {\n",
              "        text-align: right;\n",
              "    }\n",
              "</style>\n",
              "<table border=\"1\" class=\"dataframe\">\n",
              "  <thead>\n",
              "    <tr style=\"text-align: right;\">\n",
              "      <th></th>\n",
              "      <th>Quantity</th>\n",
              "      <th>Price Tier</th>\n",
              "      <th>Attendee #</th>\n",
              "      <th>Group</th>\n",
              "      <th>Total Paid</th>\n",
              "      <th>Fees Paid</th>\n",
              "      <th>Eventbrite Fees</th>\n",
              "      <th>Eventbrite Payment Processing</th>\n",
              "      <th>CGPA</th>\n",
              "      <th>Speaking Skills</th>\n",
              "      <th>ML Knowledge</th>\n",
              "    </tr>\n",
              "  </thead>\n",
              "  <tbody>\n",
              "    <tr>\n",
              "      <th>count</th>\n",
              "      <td>1098.0</td>\n",
              "      <td>0.0</td>\n",
              "      <td>6.960000e+02</td>\n",
              "      <td>0.0</td>\n",
              "      <td>1098.0</td>\n",
              "      <td>696.0</td>\n",
              "      <td>1098.0</td>\n",
              "      <td>1098.0</td>\n",
              "      <td>1098.000000</td>\n",
              "      <td>1098.000000</td>\n",
              "      <td>1098.000000</td>\n",
              "    </tr>\n",
              "    <tr>\n",
              "      <th>mean</th>\n",
              "      <td>1.0</td>\n",
              "      <td>NaN</td>\n",
              "      <td>2.254630e+09</td>\n",
              "      <td>NaN</td>\n",
              "      <td>0.0</td>\n",
              "      <td>0.0</td>\n",
              "      <td>0.0</td>\n",
              "      <td>0.0</td>\n",
              "      <td>8.038434</td>\n",
              "      <td>3.457195</td>\n",
              "      <td>3.477231</td>\n",
              "    </tr>\n",
              "    <tr>\n",
              "      <th>std</th>\n",
              "      <td>0.0</td>\n",
              "      <td>NaN</td>\n",
              "      <td>5.051868e+07</td>\n",
              "      <td>NaN</td>\n",
              "      <td>0.0</td>\n",
              "      <td>0.0</td>\n",
              "      <td>0.0</td>\n",
              "      <td>0.0</td>\n",
              "      <td>1.004991</td>\n",
              "      <td>1.157784</td>\n",
              "      <td>1.150455</td>\n",
              "    </tr>\n",
              "    <tr>\n",
              "      <th>min</th>\n",
              "      <td>1.0</td>\n",
              "      <td>NaN</td>\n",
              "      <td>2.213855e+09</td>\n",
              "      <td>NaN</td>\n",
              "      <td>0.0</td>\n",
              "      <td>0.0</td>\n",
              "      <td>0.0</td>\n",
              "      <td>0.0</td>\n",
              "      <td>6.200000</td>\n",
              "      <td>2.000000</td>\n",
              "      <td>2.000000</td>\n",
              "    </tr>\n",
              "    <tr>\n",
              "      <th>25%</th>\n",
              "      <td>1.0</td>\n",
              "      <td>NaN</td>\n",
              "      <td>2.220493e+09</td>\n",
              "      <td>NaN</td>\n",
              "      <td>0.0</td>\n",
              "      <td>0.0</td>\n",
              "      <td>0.0</td>\n",
              "      <td>0.0</td>\n",
              "      <td>7.200000</td>\n",
              "      <td>2.000000</td>\n",
              "      <td>2.000000</td>\n",
              "    </tr>\n",
              "    <tr>\n",
              "      <th>50%</th>\n",
              "      <td>1.0</td>\n",
              "      <td>NaN</td>\n",
              "      <td>2.226290e+09</td>\n",
              "      <td>NaN</td>\n",
              "      <td>0.0</td>\n",
              "      <td>0.0</td>\n",
              "      <td>0.0</td>\n",
              "      <td>0.0</td>\n",
              "      <td>7.900000</td>\n",
              "      <td>3.500000</td>\n",
              "      <td>4.000000</td>\n",
              "    </tr>\n",
              "    <tr>\n",
              "      <th>75%</th>\n",
              "      <td>1.0</td>\n",
              "      <td>NaN</td>\n",
              "      <td>2.290655e+09</td>\n",
              "      <td>NaN</td>\n",
              "      <td>0.0</td>\n",
              "      <td>0.0</td>\n",
              "      <td>0.0</td>\n",
              "      <td>0.0</td>\n",
              "      <td>8.900000</td>\n",
              "      <td>5.000000</td>\n",
              "      <td>4.750000</td>\n",
              "    </tr>\n",
              "    <tr>\n",
              "      <th>max</th>\n",
              "      <td>1.0</td>\n",
              "      <td>NaN</td>\n",
              "      <td>2.361645e+09</td>\n",
              "      <td>NaN</td>\n",
              "      <td>0.0</td>\n",
              "      <td>0.0</td>\n",
              "      <td>0.0</td>\n",
              "      <td>0.0</td>\n",
              "      <td>9.900000</td>\n",
              "      <td>5.000000</td>\n",
              "      <td>5.000000</td>\n",
              "    </tr>\n",
              "  </tbody>\n",
              "</table>\n",
              "</div>\n",
              "    <div class=\"colab-df-buttons\">\n",
              "\n",
              "  <div class=\"colab-df-container\">\n",
              "    <button class=\"colab-df-convert\" onclick=\"convertToInteractive('df-19145f92-612f-40e5-865f-7064b4deba7d')\"\n",
              "            title=\"Convert this dataframe to an interactive table.\"\n",
              "            style=\"display:none;\">\n",
              "\n",
              "  <svg xmlns=\"http://www.w3.org/2000/svg\" height=\"24px\" viewBox=\"0 -960 960 960\">\n",
              "    <path d=\"M120-120v-720h720v720H120Zm60-500h600v-160H180v160Zm220 220h160v-160H400v160Zm0 220h160v-160H400v160ZM180-400h160v-160H180v160Zm440 0h160v-160H620v160ZM180-180h160v-160H180v160Zm440 0h160v-160H620v160Z\"/>\n",
              "  </svg>\n",
              "    </button>\n",
              "\n",
              "  <style>\n",
              "    .colab-df-container {\n",
              "      display:flex;\n",
              "      gap: 12px;\n",
              "    }\n",
              "\n",
              "    .colab-df-convert {\n",
              "      background-color: #E8F0FE;\n",
              "      border: none;\n",
              "      border-radius: 50%;\n",
              "      cursor: pointer;\n",
              "      display: none;\n",
              "      fill: #1967D2;\n",
              "      height: 32px;\n",
              "      padding: 0 0 0 0;\n",
              "      width: 32px;\n",
              "    }\n",
              "\n",
              "    .colab-df-convert:hover {\n",
              "      background-color: #E2EBFA;\n",
              "      box-shadow: 0px 1px 2px rgba(60, 64, 67, 0.3), 0px 1px 3px 1px rgba(60, 64, 67, 0.15);\n",
              "      fill: #174EA6;\n",
              "    }\n",
              "\n",
              "    .colab-df-buttons div {\n",
              "      margin-bottom: 4px;\n",
              "    }\n",
              "\n",
              "    [theme=dark] .colab-df-convert {\n",
              "      background-color: #3B4455;\n",
              "      fill: #D2E3FC;\n",
              "    }\n",
              "\n",
              "    [theme=dark] .colab-df-convert:hover {\n",
              "      background-color: #434B5C;\n",
              "      box-shadow: 0px 1px 3px 1px rgba(0, 0, 0, 0.15);\n",
              "      filter: drop-shadow(0px 1px 2px rgba(0, 0, 0, 0.3));\n",
              "      fill: #FFFFFF;\n",
              "    }\n",
              "  </style>\n",
              "\n",
              "    <script>\n",
              "      const buttonEl =\n",
              "        document.querySelector('#df-19145f92-612f-40e5-865f-7064b4deba7d button.colab-df-convert');\n",
              "      buttonEl.style.display =\n",
              "        google.colab.kernel.accessAllowed ? 'block' : 'none';\n",
              "\n",
              "      async function convertToInteractive(key) {\n",
              "        const element = document.querySelector('#df-19145f92-612f-40e5-865f-7064b4deba7d');\n",
              "        const dataTable =\n",
              "          await google.colab.kernel.invokeFunction('convertToInteractive',\n",
              "                                                    [key], {});\n",
              "        if (!dataTable) return;\n",
              "\n",
              "        const docLinkHtml = 'Like what you see? Visit the ' +\n",
              "          '<a target=\"_blank\" href=https://colab.research.google.com/notebooks/data_table.ipynb>data table notebook</a>'\n",
              "          + ' to learn more about interactive tables.';\n",
              "        element.innerHTML = '';\n",
              "        dataTable['output_type'] = 'display_data';\n",
              "        await google.colab.output.renderOutput(dataTable, element);\n",
              "        const docLink = document.createElement('div');\n",
              "        docLink.innerHTML = docLinkHtml;\n",
              "        element.appendChild(docLink);\n",
              "      }\n",
              "    </script>\n",
              "  </div>\n",
              "\n",
              "\n",
              "<div id=\"df-a79664d0-4b45-4ac2-9a28-906a0d486395\">\n",
              "  <button class=\"colab-df-quickchart\" onclick=\"quickchart('df-a79664d0-4b45-4ac2-9a28-906a0d486395')\"\n",
              "            title=\"Suggest charts.\"\n",
              "            style=\"display:none;\">\n",
              "\n",
              "<svg xmlns=\"http://www.w3.org/2000/svg\" height=\"24px\"viewBox=\"0 0 24 24\"\n",
              "     width=\"24px\">\n",
              "    <g>\n",
              "        <path d=\"M19 3H5c-1.1 0-2 .9-2 2v14c0 1.1.9 2 2 2h14c1.1 0 2-.9 2-2V5c0-1.1-.9-2-2-2zM9 17H7v-7h2v7zm4 0h-2V7h2v10zm4 0h-2v-4h2v4z\"/>\n",
              "    </g>\n",
              "</svg>\n",
              "  </button>\n",
              "\n",
              "<style>\n",
              "  .colab-df-quickchart {\n",
              "      --bg-color: #E8F0FE;\n",
              "      --fill-color: #1967D2;\n",
              "      --hover-bg-color: #E2EBFA;\n",
              "      --hover-fill-color: #174EA6;\n",
              "      --disabled-fill-color: #AAA;\n",
              "      --disabled-bg-color: #DDD;\n",
              "  }\n",
              "\n",
              "  [theme=dark] .colab-df-quickchart {\n",
              "      --bg-color: #3B4455;\n",
              "      --fill-color: #D2E3FC;\n",
              "      --hover-bg-color: #434B5C;\n",
              "      --hover-fill-color: #FFFFFF;\n",
              "      --disabled-bg-color: #3B4455;\n",
              "      --disabled-fill-color: #666;\n",
              "  }\n",
              "\n",
              "  .colab-df-quickchart {\n",
              "    background-color: var(--bg-color);\n",
              "    border: none;\n",
              "    border-radius: 50%;\n",
              "    cursor: pointer;\n",
              "    display: none;\n",
              "    fill: var(--fill-color);\n",
              "    height: 32px;\n",
              "    padding: 0;\n",
              "    width: 32px;\n",
              "  }\n",
              "\n",
              "  .colab-df-quickchart:hover {\n",
              "    background-color: var(--hover-bg-color);\n",
              "    box-shadow: 0 1px 2px rgba(60, 64, 67, 0.3), 0 1px 3px 1px rgba(60, 64, 67, 0.15);\n",
              "    fill: var(--button-hover-fill-color);\n",
              "  }\n",
              "\n",
              "  .colab-df-quickchart-complete:disabled,\n",
              "  .colab-df-quickchart-complete:disabled:hover {\n",
              "    background-color: var(--disabled-bg-color);\n",
              "    fill: var(--disabled-fill-color);\n",
              "    box-shadow: none;\n",
              "  }\n",
              "\n",
              "  .colab-df-spinner {\n",
              "    border: 2px solid var(--fill-color);\n",
              "    border-color: transparent;\n",
              "    border-bottom-color: var(--fill-color);\n",
              "    animation:\n",
              "      spin 1s steps(1) infinite;\n",
              "  }\n",
              "\n",
              "  @keyframes spin {\n",
              "    0% {\n",
              "      border-color: transparent;\n",
              "      border-bottom-color: var(--fill-color);\n",
              "      border-left-color: var(--fill-color);\n",
              "    }\n",
              "    20% {\n",
              "      border-color: transparent;\n",
              "      border-left-color: var(--fill-color);\n",
              "      border-top-color: var(--fill-color);\n",
              "    }\n",
              "    30% {\n",
              "      border-color: transparent;\n",
              "      border-left-color: var(--fill-color);\n",
              "      border-top-color: var(--fill-color);\n",
              "      border-right-color: var(--fill-color);\n",
              "    }\n",
              "    40% {\n",
              "      border-color: transparent;\n",
              "      border-right-color: var(--fill-color);\n",
              "      border-top-color: var(--fill-color);\n",
              "    }\n",
              "    60% {\n",
              "      border-color: transparent;\n",
              "      border-right-color: var(--fill-color);\n",
              "    }\n",
              "    80% {\n",
              "      border-color: transparent;\n",
              "      border-right-color: var(--fill-color);\n",
              "      border-bottom-color: var(--fill-color);\n",
              "    }\n",
              "    90% {\n",
              "      border-color: transparent;\n",
              "      border-bottom-color: var(--fill-color);\n",
              "    }\n",
              "  }\n",
              "</style>\n",
              "\n",
              "  <script>\n",
              "    async function quickchart(key) {\n",
              "      const quickchartButtonEl =\n",
              "        document.querySelector('#' + key + ' button');\n",
              "      quickchartButtonEl.disabled = true;  // To prevent multiple clicks.\n",
              "      quickchartButtonEl.classList.add('colab-df-spinner');\n",
              "      try {\n",
              "        const charts = await google.colab.kernel.invokeFunction(\n",
              "            'suggestCharts', [key], {});\n",
              "      } catch (error) {\n",
              "        console.error('Error during call to suggestCharts:', error);\n",
              "      }\n",
              "      quickchartButtonEl.classList.remove('colab-df-spinner');\n",
              "      quickchartButtonEl.classList.add('colab-df-quickchart-complete');\n",
              "    }\n",
              "    (() => {\n",
              "      let quickchartButtonEl =\n",
              "        document.querySelector('#df-a79664d0-4b45-4ac2-9a28-906a0d486395 button');\n",
              "      quickchartButtonEl.style.display =\n",
              "        google.colab.kernel.accessAllowed ? 'block' : 'none';\n",
              "    })();\n",
              "  </script>\n",
              "</div>\n",
              "    </div>\n",
              "  </div>\n"
            ]
          },
          "metadata": {},
          "execution_count": 8
        }
      ]
    },
    {
      "cell_type": "markdown",
      "source": [
        "# Feature Selection\n",
        "Out of all the features  CGPA , Speaking Skills, ML Knowledge are helpful for placements."
      ],
      "metadata": {
        "id": "UqlsFffhEtTc"
      }
    },
    {
      "cell_type": "code",
      "source": [
        "features=['CGPA','Speaking Skills','ML Knowledge']\n",
        "X=train_data[features]\n",
        "y=train_data['Placement Status']\n",
        "X.info()\n",
        "y.info()"
      ],
      "metadata": {
        "colab": {
          "base_uri": "https://localhost:8080/"
        },
        "id": "WjUX6bZpGTau",
        "outputId": "c465381e-c206-4e73-e7b1-207752c8b3d3"
      },
      "execution_count": 9,
      "outputs": [
        {
          "output_type": "stream",
          "name": "stdout",
          "text": [
            "<class 'pandas.core.frame.DataFrame'>\n",
            "Int64Index: 1098 entries, 0 to 1097\n",
            "Data columns (total 3 columns):\n",
            " #   Column           Non-Null Count  Dtype  \n",
            "---  ------           --------------  -----  \n",
            " 0   CGPA             1098 non-null   float64\n",
            " 1   Speaking Skills  1098 non-null   int64  \n",
            " 2   ML Knowledge     1098 non-null   int64  \n",
            "dtypes: float64(1), int64(2)\n",
            "memory usage: 34.3 KB\n",
            "<class 'pandas.core.series.Series'>\n",
            "Int64Index: 1098 entries, 0 to 1097\n",
            "Series name: Placement Status\n",
            "Non-Null Count  Dtype \n",
            "--------------  ----- \n",
            "1098 non-null   object\n",
            "dtypes: object(1)\n",
            "memory usage: 17.2+ KB\n"
          ]
        }
      ]
    },
    {
      "cell_type": "markdown",
      "source": [
        "# Importing requrired machine Learning models\n",
        "Since it is a classification problem we can use BinaryTreeClassifer , LogisticRegressor etc.."
      ],
      "metadata": {
        "id": "j5yNQMDuJeEN"
      }
    },
    {
      "cell_type": "code",
      "source": [
        "from sklearn.tree import DecisionTreeClassifier\n",
        "from sklearn.ensemble import RandomForestClassifier\n",
        "from sklearn.linear_model import LogisticRegression\n",
        "from sklearn.model_selection import train_test_split\n",
        "from sklearn.metrics import accuracy_score, classification_report"
      ],
      "metadata": {
        "id": "_kRUMDYDIt95"
      },
      "execution_count": 10,
      "outputs": []
    },
    {
      "cell_type": "markdown",
      "source": [
        "# Spliting the Data in Train and Test"
      ],
      "metadata": {
        "id": "bhgqiypxJzQk"
      }
    },
    {
      "cell_type": "code",
      "source": [
        "X_train, X_test, y_train, y_test = train_test_split(X, y, test_size=0.3, random_state=42)"
      ],
      "metadata": {
        "id": "vy6CDUmJJJHe"
      },
      "execution_count": 11,
      "outputs": []
    },
    {
      "cell_type": "markdown",
      "source": [
        "# Using a DecisionTree Classifier"
      ],
      "metadata": {
        "id": "qceZSfVLJ7hb"
      }
    },
    {
      "cell_type": "code",
      "source": [
        "classifier = DecisionTreeClassifier(max_depth=9, random_state=42)"
      ],
      "metadata": {
        "id": "KNcUS_19JNhv"
      },
      "execution_count": 12,
      "outputs": []
    },
    {
      "cell_type": "code",
      "source": [
        "classifier.fit(X_train, y_train)\n",
        "y_pred = classifier.predict(X_test)"
      ],
      "metadata": {
        "id": "PixDUTOdJPx-"
      },
      "execution_count": 13,
      "outputs": []
    },
    {
      "cell_type": "code",
      "source": [
        "accuracy = accuracy_score(y_test, y_pred)\n",
        "report = classification_report(y_test, y_pred)\n",
        "\n",
        "print(\"Accuracy:\", accuracy)\n",
        "print(\"Classification Report:\\n\", report)"
      ],
      "metadata": {
        "colab": {
          "base_uri": "https://localhost:8080/"
        },
        "id": "nNN3dulFJSJR",
        "outputId": "31dda443-beac-4158-a06f-4a499c55aa1d"
      },
      "execution_count": 14,
      "outputs": [
        {
          "output_type": "stream",
          "name": "stdout",
          "text": [
            "Accuracy: 0.6272727272727273\n",
            "Classification Report:\n",
            "               precision    recall  f1-score   support\n",
            "\n",
            "  Not placed       0.65      0.91      0.76       213\n",
            "      Placed       0.41      0.11      0.17       117\n",
            "\n",
            "    accuracy                           0.63       330\n",
            "   macro avg       0.53      0.51      0.47       330\n",
            "weighted avg       0.56      0.63      0.55       330\n",
            "\n"
          ]
        }
      ]
    },
    {
      "cell_type": "markdown",
      "source": [
        "# Using Logistic Regressor"
      ],
      "metadata": {
        "id": "QpnhkgRAKD2M"
      }
    },
    {
      "cell_type": "code",
      "source": [
        "y_train1=y_train.replace({'Placed': 1,'Not placed': 0})\n",
        "y_test1=y_test.replace({'Placed': 1, 'Not placed': 0})"
      ],
      "metadata": {
        "id": "oTSnM6goQIpx"
      },
      "execution_count": 15,
      "outputs": []
    },
    {
      "cell_type": "code",
      "source": [
        "classifier2= LogisticRegression(random_state=42)"
      ],
      "metadata": {
        "id": "uxe_Z6KkKNG2"
      },
      "execution_count": 16,
      "outputs": []
    },
    {
      "cell_type": "code",
      "source": [
        "classifier2.fit(X_train,y_train)\n",
        "y_pred = classifier2.predict(X_test)"
      ],
      "metadata": {
        "id": "fDjL9VUyKTog"
      },
      "execution_count": 17,
      "outputs": []
    },
    {
      "cell_type": "code",
      "source": [
        "accuracy = accuracy_score(y_test, y_pred)\n",
        "report = classification_report(y_test, y_pred)\n",
        "\n",
        "print(\"Accuracy:\", accuracy)\n",
        "print(\"Classification Report:\\n\", report)"
      ],
      "metadata": {
        "colab": {
          "base_uri": "https://localhost:8080/"
        },
        "id": "MOrBoFo1ND6K",
        "outputId": "144f0565-f100-4669-9c67-af5eda99f897"
      },
      "execution_count": 18,
      "outputs": [
        {
          "output_type": "stream",
          "name": "stdout",
          "text": [
            "Accuracy: 0.6272727272727273\n",
            "Classification Report:\n",
            "               precision    recall  f1-score   support\n",
            "\n",
            "  Not placed       0.65      0.91      0.76       213\n",
            "      Placed       0.41      0.11      0.17       117\n",
            "\n",
            "    accuracy                           0.63       330\n",
            "   macro avg       0.53      0.51      0.47       330\n",
            "weighted avg       0.56      0.63      0.55       330\n",
            "\n"
          ]
        }
      ]
    },
    {
      "cell_type": "markdown",
      "source": [
        "# Using RandomForestClassifer\n"
      ],
      "metadata": {
        "id": "DEAFlsIUN4Dm"
      }
    },
    {
      "cell_type": "code",
      "source": [
        "randomForestClassifier=RandomForestClassifier(n_estimators=100, max_depth=8, random_state=4)"
      ],
      "metadata": {
        "id": "rXO5Y0DWF3Ap"
      },
      "execution_count": 19,
      "outputs": []
    },
    {
      "cell_type": "code",
      "source": [
        "randomForestClassifier.fit(X_train,y_train)\n",
        "y_pred = randomForestClassifier.predict(X_test)"
      ],
      "metadata": {
        "id": "55nStzyrODmU"
      },
      "execution_count": 20,
      "outputs": []
    },
    {
      "cell_type": "code",
      "source": [
        "accuracy = accuracy_score(y_test, y_pred)\n",
        "report = classification_report(y_test, y_pred)\n",
        "\n",
        "print(\"Accuracy:\", accuracy)\n",
        "print(\"Classification Report:\\n\", report)"
      ],
      "metadata": {
        "colab": {
          "base_uri": "https://localhost:8080/"
        },
        "id": "1zwWZ7yNOMb3",
        "outputId": "d187f893-4bb8-48e2-dafc-d057cbd114b5"
      },
      "execution_count": 21,
      "outputs": [
        {
          "output_type": "stream",
          "name": "stdout",
          "text": [
            "Accuracy: 0.6272727272727273\n",
            "Classification Report:\n",
            "               precision    recall  f1-score   support\n",
            "\n",
            "  Not placed       0.65      0.91      0.76       213\n",
            "      Placed       0.41      0.11      0.17       117\n",
            "\n",
            "    accuracy                           0.63       330\n",
            "   macro avg       0.53      0.51      0.47       330\n",
            "weighted avg       0.56      0.63      0.55       330\n",
            "\n"
          ]
        }
      ]
    },
    {
      "cell_type": "markdown",
      "source": [
        "# Final Ouput\n",
        "It is oberserved that all the Max accurasy that can obtained is 0.627\n",
        "with any of the classification models .\n",
        "The final model that best solves the given problem is RandomForestClassifer"
      ],
      "metadata": {
        "id": "eLTuGpeHQzHU"
      }
    },
    {
      "cell_type": "markdown",
      "source": [
        "# Given Test Dats"
      ],
      "metadata": {
        "id": "akUs-bnwTyyB"
      }
    },
    {
      "cell_type": "code",
      "source": [
        "test_data.info()"
      ],
      "metadata": {
        "colab": {
          "base_uri": "https://localhost:8080/"
        },
        "id": "OxAyTfIeTk9d",
        "outputId": "dcfb24b4-52c9-4397-9160-a04e1bfd5a3f"
      },
      "execution_count": 22,
      "outputs": [
        {
          "output_type": "stream",
          "name": "stdout",
          "text": [
            "<class 'pandas.core.frame.DataFrame'>\n",
            "RangeIndex: 3796 entries, 0 to 3795\n",
            "Data columns (total 23 columns):\n",
            " #   Column                                                           Non-Null Count  Dtype  \n",
            "---  ------                                                           --------------  -----  \n",
            " 0   First Name                                                       3796 non-null   object \n",
            " 1   Email ID                                                         3796 non-null   object \n",
            " 2   Quantity                                                         3796 non-null   int64  \n",
            " 3   Price Tier                                                       0 non-null      float64\n",
            " 4   Ticket Type                                                      3796 non-null   object \n",
            " 5   Attendee #                                                       3794 non-null   float64\n",
            " 6   Group                                                            0 non-null      float64\n",
            " 7   Order Type                                                       3796 non-null   object \n",
            " 8   Currency                                                         3794 non-null   object \n",
            " 9   Total Paid                                                       3796 non-null   int64  \n",
            " 10  Fees Paid                                                        3794 non-null   float64\n",
            " 11  Eventbrite Fees                                                  3796 non-null   int64  \n",
            " 12  Eventbrite Payment Processing                                    3796 non-null   int64  \n",
            " 13  Attendee Status                                                  3796 non-null   object \n",
            " 14  College Name                                                     3795 non-null   object \n",
            " 15  How did you come to know about this event?                       1584 non-null   object \n",
            " 16  Specify in \"Others\" (how did you come to know about this event)  27 non-null     object \n",
            " 17  Designation                                                      3796 non-null   object \n",
            " 18  Year of Graduation                                               1032 non-null   object \n",
            " 19  CGPA                                                             3796 non-null   float64\n",
            " 20  Speaking Skills                                                  3796 non-null   int64  \n",
            " 21  ML Knowledge                                                     3796 non-null   int64  \n",
            " 22  Placement Status                                                 0 non-null      float64\n",
            "dtypes: float64(6), int64(6), object(11)\n",
            "memory usage: 682.2+ KB\n"
          ]
        }
      ]
    },
    {
      "cell_type": "markdown",
      "source": [
        "# Predicting Placement status using RandomForestClassification"
      ],
      "metadata": {
        "id": "WaVOTdQAT3Cq"
      }
    },
    {
      "cell_type": "code",
      "source": [
        "test_data['Placement Status']=randomForestClassifer.predict(test_data[features])"
      ],
      "metadata": {
        "id": "jTesqNbyOXTq"
      },
      "execution_count": 23,
      "outputs": []
    },
    {
      "cell_type": "code",
      "source": [
        "test_data['Placement Status'].info()"
      ],
      "metadata": {
        "colab": {
          "base_uri": "https://localhost:8080/"
        },
        "id": "nUEmlYOrTRiH",
        "outputId": "3b39f4fd-723b-4a68-968e-cf0d3d8dc7bf"
      },
      "execution_count": 24,
      "outputs": [
        {
          "output_type": "stream",
          "name": "stdout",
          "text": [
            "<class 'pandas.core.series.Series'>\n",
            "RangeIndex: 3796 entries, 0 to 3795\n",
            "Series name: Placement Status\n",
            "Non-Null Count  Dtype \n",
            "--------------  ----- \n",
            "3796 non-null   object\n",
            "dtypes: object(1)\n",
            "memory usage: 29.8+ KB\n"
          ]
        }
      ]
    },
    {
      "cell_type": "markdown",
      "source": [
        "# Saving it into a new Ouput excel sheet"
      ],
      "metadata": {
        "id": "OaoOb4_zUS2t"
      }
    },
    {
      "cell_type": "code",
      "source": [
        "df = pd.DataFrame(train_data)\n",
        "\n",
        "# Specify the file path where you want to save the Excel file\n",
        "file_path = '02 Test Data Results.xlsx'\n",
        "\n",
        "# Save the DataFrame to an Excel file\n",
        "df.to_excel(file_path, index=False)  # Use index=False to exclude the index column\n",
        "\n",
        "print(f'DataFrame saved to {file_path}')\n"
      ],
      "metadata": {
        "colab": {
          "base_uri": "https://localhost:8080/"
        },
        "id": "pGZy42pYUgnl",
        "outputId": "8a0f743c-ed2d-427f-a02c-3ae8c49c6cba"
      },
      "execution_count": 25,
      "outputs": [
        {
          "output_type": "stream",
          "name": "stdout",
          "text": [
            "DataFrame saved to 02 Test Data Results.xlsx\n"
          ]
        }
      ]
    }
  ]
}
